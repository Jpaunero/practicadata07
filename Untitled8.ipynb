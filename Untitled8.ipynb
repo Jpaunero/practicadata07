{
  "nbformat": 4,
  "nbformat_minor": 0,
  "metadata": {
    "colab": {
      "provenance": [],
      "authorship_tag": "ABX9TyOZapaxQU7iCxKnzdN3qQ2l",
      "include_colab_link": true
    },
    "kernelspec": {
      "name": "python3",
      "display_name": "Python 3"
    },
    "language_info": {
      "name": "python"
    }
  },
  "cells": [
    {
      "cell_type": "markdown",
      "metadata": {
        "id": "view-in-github",
        "colab_type": "text"
      },
      "source": [
        "<a href=\"https://colab.research.google.com/github/Jpaunero/practicadata07/blob/main/Untitled8.ipynb\" target=\"_parent\"><img src=\"https://colab.research.google.com/assets/colab-badge.svg\" alt=\"Open In Colab\"/></a>"
      ]
    },
    {
      "cell_type": "code",
      "execution_count": 11,
      "metadata": {
        "colab": {
          "base_uri": "https://localhost:8080/"
        },
        "id": "I5FmVQ45JH8B",
        "outputId": "4bead273-1a0b-4b9f-9bcc-681ee1e687b2"
      },
      "outputs": [
        {
          "output_type": "stream",
          "name": "stderr",
          "text": [
            "/usr/local/lib/python3.7/dist-packages/IPython/core/interactiveshell.py:3326: DtypeWarning: Columns (0) have mixed types.Specify dtype option on import or set low_memory=False.\n",
            "  exec(code_obj, self.user_global_ns, self.user_ns)\n"
          ]
        }
      ],
      "source": [
        "import pandas as pd\n",
        "\n",
        "data = pd.read_csv(\"/content/data.csv\")"
      ]
    },
    {
      "cell_type": "code",
      "source": [],
      "metadata": {
        "id": "0A9WExJDr6NB"
      },
      "execution_count": null,
      "outputs": []
    },
    {
      "cell_type": "code",
      "source": [
        "data.shape"
      ],
      "metadata": {
        "colab": {
          "base_uri": "https://localhost:8080/"
        },
        "id": "3glsMr22UEoG",
        "outputId": "57d58300-875a-4a59-dc6e-f7ef1ecbf043"
      },
      "execution_count": 12,
      "outputs": [
        {
          "output_type": "execute_result",
          "data": {
            "text/plain": [
              "(392892, 15)"
            ]
          },
          "metadata": {},
          "execution_count": 12
        }
      ]
    },
    {
      "cell_type": "code",
      "source": [
        "data.head\n"
      ],
      "metadata": {
        "colab": {
          "base_uri": "https://localhost:8080/"
        },
        "id": "apwmSnb7KocP",
        "outputId": "a0fa50c8-22b6-423e-af78-cfbe115b2eda"
      },
      "execution_count": null,
      "outputs": [
        {
          "output_type": "execute_result",
          "data": {
            "text/plain": [
              "<bound method NDFrame.head of               fullVisitorID  visitNumber      date  bounces  hits  pageviews  \\\n",
              "0       8533875475515924645            1  20170205      1.0     1        1.0   \n",
              "1       4874599869430831185            2  20170205      1.0     1        1.0   \n",
              "2        361954421372951638            1  20170205      1.0     1        1.0   \n",
              "3       8751850432978942600            2  20170205      1.0     1        1.0   \n",
              "4       2451058030378352110            1  20170205      1.0     1        1.0   \n",
              "...                     ...          ...       ...      ...   ...        ...   \n",
              "392887  4823772839168317708            1  20170314      NaN    14       10.0   \n",
              "392888  4495028198726387872            1  20170314      NaN    15       13.0   \n",
              "392889   659863211325608630            1  20170314      NaN    16       16.0   \n",
              "392890  5989424100079269693            1  20170314      NaN    20       18.0   \n",
              "392891  9349161317881541522            4  20170314      NaN   205      179.0   \n",
              "\n",
              "        timeOnSite  transactionRevenue  transactions          source  \\\n",
              "0              NaN                 NaN           NaN        (direct)   \n",
              "1              NaN                 NaN           NaN        (direct)   \n",
              "2              NaN                 NaN           NaN        (direct)   \n",
              "3              NaN                 NaN           NaN            bing   \n",
              "4              NaN                 NaN           NaN        (direct)   \n",
              "...            ...                 ...           ...             ...   \n",
              "392887       210.0                 NaN           NaN     youtube.com   \n",
              "392888       306.0                 NaN           NaN  m.facebook.com   \n",
              "392889       202.0                 NaN           NaN     youtube.com   \n",
              "392890       621.0                 NaN           NaN     youtube.com   \n",
              "392891      4195.0              901.71           8.0  l.facebook.com   \n",
              "\n",
              "       channelGrouping          browser deviceCategory        country  \\\n",
              "0       Organic Search           Chrome        desktop      Australia   \n",
              "1       Organic Search           Chrome         mobile         Turkey   \n",
              "2       Organic Search           Chrome        desktop         Russia   \n",
              "3       Organic Search             Edge        desktop  United States   \n",
              "4       Organic Search           Chrome        desktop      Indonesia   \n",
              "...                ...              ...            ...            ...   \n",
              "392887          Social           Chrome        desktop      Australia   \n",
              "392888          Social  Android Webview         mobile  United States   \n",
              "392889          Social           Chrome        desktop       Colombia   \n",
              "392890          Social           Chrome        desktop         Israel   \n",
              "392891          Social          Firefox        desktop      Indonesia   \n",
              "\n",
              "                                 city  \n",
              "0                              Sydney  \n",
              "1                            Istanbul  \n",
              "2                              Moscow  \n",
              "3       not available in demo dataset  \n",
              "4       not available in demo dataset  \n",
              "...                               ...  \n",
              "392887                         Sydney  \n",
              "392888  not available in demo dataset  \n",
              "392889  not available in demo dataset  \n",
              "392890                  Tel Aviv-Yafo  \n",
              "392891  not available in demo dataset  \n",
              "\n",
              "[392892 rows x 15 columns]>"
            ]
          },
          "metadata": {},
          "execution_count": 3
        }
      ]
    },
    {
      "cell_type": "code",
      "source": [
        "data.count()"
      ],
      "metadata": {
        "colab": {
          "base_uri": "https://localhost:8080/"
        },
        "id": "Go9RdMWHKuKm",
        "outputId": "6c321339-85e1-4913-baed-1315648d6704"
      },
      "execution_count": 5,
      "outputs": [
        {
          "output_type": "execute_result",
          "data": {
            "text/plain": [
              "fullVisitorID         67030\n",
              "visitNumber           67030\n",
              "date                  67030\n",
              "bounces               33500\n",
              "hits                  67029\n",
              "pageviews             67022\n",
              "timeOnSite            33425\n",
              "transactionRevenue      968\n",
              "transactions            968\n",
              "source                67029\n",
              "channelGrouping       67029\n",
              "browser               67029\n",
              "deviceCategory        67029\n",
              "country               67029\n",
              "city                  67029\n",
              "dtype: int64"
            ]
          },
          "metadata": {},
          "execution_count": 5
        }
      ]
    },
    {
      "cell_type": "code",
      "source": [
        "turkey = (data[data.country.str.contains('Turkey')])\n",
        "t = len(turkey.country)\n",
        "t"
      ],
      "metadata": {
        "colab": {
          "base_uri": "https://localhost:8080/"
        },
        "id": "dj9OI6qmKuRR",
        "outputId": "3f7181cf-b553-4a0c-ae87-851031bebef8"
      },
      "execution_count": null,
      "outputs": [
        {
          "output_type": "execute_result",
          "data": {
            "text/plain": [
              "3765"
            ]
          },
          "metadata": {},
          "execution_count": 11
        }
      ]
    },
    {
      "cell_type": "code",
      "source": [
        "def Borrar_col():\n",
        "  data.drop(['fullVisitorID'], inplace =True, axis=1)\n",
        "  datashape = data.shape[1]\n",
        "  return datashape"
      ],
      "metadata": {
        "id": "BB5s7LGgMq8P"
      },
      "execution_count": null,
      "outputs": []
    },
    {
      "cell_type": "code",
      "source": [
        "data.isnull"
      ],
      "metadata": {
        "colab": {
          "base_uri": "https://localhost:8080/"
        },
        "id": "Vu1cO0niUU3I",
        "outputId": "ddd7801f-94d1-4179-d18f-3b7e6c0129c4"
      },
      "execution_count": null,
      "outputs": [
        {
          "output_type": "execute_result",
          "data": {
            "text/plain": [
              "<bound method DataFrame.isnull of               fullVisitorID  visitNumber      date  bounces  hits  pageviews  \\\n",
              "0       8533875475515924645            1  20170205      1.0     1        1.0   \n",
              "1       4874599869430831185            2  20170205      1.0     1        1.0   \n",
              "2        361954421372951638            1  20170205      1.0     1        1.0   \n",
              "3       8751850432978942600            2  20170205      1.0     1        1.0   \n",
              "4       2451058030378352110            1  20170205      1.0     1        1.0   \n",
              "...                     ...          ...       ...      ...   ...        ...   \n",
              "392887  4823772839168317708            1  20170314      NaN    14       10.0   \n",
              "392888  4495028198726387872            1  20170314      NaN    15       13.0   \n",
              "392889   659863211325608630            1  20170314      NaN    16       16.0   \n",
              "392890  5989424100079269693            1  20170314      NaN    20       18.0   \n",
              "392891  9349161317881541522            4  20170314      NaN   205      179.0   \n",
              "\n",
              "        timeOnSite  transactionRevenue  transactions          source  \\\n",
              "0              NaN                 NaN           NaN        (direct)   \n",
              "1              NaN                 NaN           NaN        (direct)   \n",
              "2              NaN                 NaN           NaN        (direct)   \n",
              "3              NaN                 NaN           NaN            bing   \n",
              "4              NaN                 NaN           NaN        (direct)   \n",
              "...            ...                 ...           ...             ...   \n",
              "392887       210.0                 NaN           NaN     youtube.com   \n",
              "392888       306.0                 NaN           NaN  m.facebook.com   \n",
              "392889       202.0                 NaN           NaN     youtube.com   \n",
              "392890       621.0                 NaN           NaN     youtube.com   \n",
              "392891      4195.0              901.71           8.0  l.facebook.com   \n",
              "\n",
              "       channelGrouping          browser deviceCategory        country  \\\n",
              "0       Organic Search           Chrome        desktop      Australia   \n",
              "1       Organic Search           Chrome         mobile         Turkey   \n",
              "2       Organic Search           Chrome        desktop         Russia   \n",
              "3       Organic Search             Edge        desktop  United States   \n",
              "4       Organic Search           Chrome        desktop      Indonesia   \n",
              "...                ...              ...            ...            ...   \n",
              "392887          Social           Chrome        desktop      Australia   \n",
              "392888          Social  Android Webview         mobile  United States   \n",
              "392889          Social           Chrome        desktop       Colombia   \n",
              "392890          Social           Chrome        desktop         Israel   \n",
              "392891          Social          Firefox        desktop      Indonesia   \n",
              "\n",
              "                                 city  \n",
              "0                              Sydney  \n",
              "1                            Istanbul  \n",
              "2                              Moscow  \n",
              "3       not available in demo dataset  \n",
              "4       not available in demo dataset  \n",
              "...                               ...  \n",
              "392887                         Sydney  \n",
              "392888  not available in demo dataset  \n",
              "392889  not available in demo dataset  \n",
              "392890                  Tel Aviv-Yafo  \n",
              "392891  not available in demo dataset  \n",
              "\n",
              "[392892 rows x 15 columns]>"
            ]
          },
          "metadata": {},
          "execution_count": 90
        }
      ]
    },
    {
      "cell_type": "code",
      "source": [
        "def borrar_na():\n",
        "  data.dropna(axis=0, inplace =True)\n",
        "  return data.columns\n",
        "\n"
      ],
      "metadata": {
        "id": "ZhuzgUeTQmA6"
      },
      "execution_count": null,
      "outputs": []
    },
    {
      "cell_type": "code",
      "source": [
        "data ="
      ],
      "metadata": {
        "id": "rk3tqtcDVhrA"
      },
      "execution_count": null,
      "outputs": []
    },
    {
      "cell_type": "code",
      "source": [
        "borrar_na()"
      ],
      "metadata": {
        "colab": {
          "base_uri": "https://localhost:8080/"
        },
        "id": "0C4vyCnsQ4Tr",
        "outputId": "b38cf392-24d2-4f3e-d7ab-611c5426633a"
      },
      "execution_count": null,
      "outputs": [
        {
          "output_type": "execute_result",
          "data": {
            "text/plain": [
              "Index(['fullVisitorID', 'visitNumber', 'date', 'hits', 'source',\n",
              "       'channelGrouping', 'browser', 'deviceCategory', 'country', 'city'],\n",
              "      dtype='object')"
            ]
          },
          "metadata": {},
          "execution_count": 100
        }
      ]
    },
    {
      "cell_type": "code",
      "source": [
        "data.isnull()"
      ],
      "metadata": {
        "colab": {
          "base_uri": "https://localhost:8080/",
          "height": 488
        },
        "id": "kPKHLVhCUk3g",
        "outputId": "1947fa1a-449e-4ff9-96fe-970462a94775"
      },
      "execution_count": 6,
      "outputs": [
        {
          "output_type": "execute_result",
          "data": {
            "text/plain": [
              "       fullVisitorID  visitNumber   date  bounces   hits  pageviews  \\\n",
              "0              False        False  False    False  False      False   \n",
              "1              False        False  False    False  False      False   \n",
              "2              False        False  False    False  False      False   \n",
              "3              False        False  False    False  False      False   \n",
              "4              False        False  False    False  False      False   \n",
              "...              ...          ...    ...      ...    ...        ...   \n",
              "67025          False        False  False     True  False      False   \n",
              "67026          False        False  False     True  False      False   \n",
              "67027          False        False  False     True  False      False   \n",
              "67028          False        False  False     True  False      False   \n",
              "67029          False        False  False     True   True       True   \n",
              "\n",
              "       timeOnSite  transactionRevenue  transactions  source  channelGrouping  \\\n",
              "0            True                True          True   False            False   \n",
              "1            True                True          True   False            False   \n",
              "2            True                True          True   False            False   \n",
              "3            True                True          True   False            False   \n",
              "4            True                True          True   False            False   \n",
              "...           ...                 ...           ...     ...              ...   \n",
              "67025       False                True          True   False            False   \n",
              "67026       False                True          True   False            False   \n",
              "67027       False                True          True   False            False   \n",
              "67028       False                True          True   False            False   \n",
              "67029        True                True          True    True             True   \n",
              "\n",
              "       browser  deviceCategory  country   city  \n",
              "0        False           False    False  False  \n",
              "1        False           False    False  False  \n",
              "2        False           False    False  False  \n",
              "3        False           False    False  False  \n",
              "4        False           False    False  False  \n",
              "...        ...             ...      ...    ...  \n",
              "67025    False           False    False  False  \n",
              "67026    False           False    False  False  \n",
              "67027    False           False    False  False  \n",
              "67028    False           False    False  False  \n",
              "67029     True            True     True   True  \n",
              "\n",
              "[67030 rows x 15 columns]"
            ],
            "text/html": [
              "\n",
              "  <div id=\"df-33fc516e-83ee-4846-9f5f-8d6a8a9111d0\">\n",
              "    <div class=\"colab-df-container\">\n",
              "      <div>\n",
              "<style scoped>\n",
              "    .dataframe tbody tr th:only-of-type {\n",
              "        vertical-align: middle;\n",
              "    }\n",
              "\n",
              "    .dataframe tbody tr th {\n",
              "        vertical-align: top;\n",
              "    }\n",
              "\n",
              "    .dataframe thead th {\n",
              "        text-align: right;\n",
              "    }\n",
              "</style>\n",
              "<table border=\"1\" class=\"dataframe\">\n",
              "  <thead>\n",
              "    <tr style=\"text-align: right;\">\n",
              "      <th></th>\n",
              "      <th>fullVisitorID</th>\n",
              "      <th>visitNumber</th>\n",
              "      <th>date</th>\n",
              "      <th>bounces</th>\n",
              "      <th>hits</th>\n",
              "      <th>pageviews</th>\n",
              "      <th>timeOnSite</th>\n",
              "      <th>transactionRevenue</th>\n",
              "      <th>transactions</th>\n",
              "      <th>source</th>\n",
              "      <th>channelGrouping</th>\n",
              "      <th>browser</th>\n",
              "      <th>deviceCategory</th>\n",
              "      <th>country</th>\n",
              "      <th>city</th>\n",
              "    </tr>\n",
              "  </thead>\n",
              "  <tbody>\n",
              "    <tr>\n",
              "      <th>0</th>\n",
              "      <td>False</td>\n",
              "      <td>False</td>\n",
              "      <td>False</td>\n",
              "      <td>False</td>\n",
              "      <td>False</td>\n",
              "      <td>False</td>\n",
              "      <td>True</td>\n",
              "      <td>True</td>\n",
              "      <td>True</td>\n",
              "      <td>False</td>\n",
              "      <td>False</td>\n",
              "      <td>False</td>\n",
              "      <td>False</td>\n",
              "      <td>False</td>\n",
              "      <td>False</td>\n",
              "    </tr>\n",
              "    <tr>\n",
              "      <th>1</th>\n",
              "      <td>False</td>\n",
              "      <td>False</td>\n",
              "      <td>False</td>\n",
              "      <td>False</td>\n",
              "      <td>False</td>\n",
              "      <td>False</td>\n",
              "      <td>True</td>\n",
              "      <td>True</td>\n",
              "      <td>True</td>\n",
              "      <td>False</td>\n",
              "      <td>False</td>\n",
              "      <td>False</td>\n",
              "      <td>False</td>\n",
              "      <td>False</td>\n",
              "      <td>False</td>\n",
              "    </tr>\n",
              "    <tr>\n",
              "      <th>2</th>\n",
              "      <td>False</td>\n",
              "      <td>False</td>\n",
              "      <td>False</td>\n",
              "      <td>False</td>\n",
              "      <td>False</td>\n",
              "      <td>False</td>\n",
              "      <td>True</td>\n",
              "      <td>True</td>\n",
              "      <td>True</td>\n",
              "      <td>False</td>\n",
              "      <td>False</td>\n",
              "      <td>False</td>\n",
              "      <td>False</td>\n",
              "      <td>False</td>\n",
              "      <td>False</td>\n",
              "    </tr>\n",
              "    <tr>\n",
              "      <th>3</th>\n",
              "      <td>False</td>\n",
              "      <td>False</td>\n",
              "      <td>False</td>\n",
              "      <td>False</td>\n",
              "      <td>False</td>\n",
              "      <td>False</td>\n",
              "      <td>True</td>\n",
              "      <td>True</td>\n",
              "      <td>True</td>\n",
              "      <td>False</td>\n",
              "      <td>False</td>\n",
              "      <td>False</td>\n",
              "      <td>False</td>\n",
              "      <td>False</td>\n",
              "      <td>False</td>\n",
              "    </tr>\n",
              "    <tr>\n",
              "      <th>4</th>\n",
              "      <td>False</td>\n",
              "      <td>False</td>\n",
              "      <td>False</td>\n",
              "      <td>False</td>\n",
              "      <td>False</td>\n",
              "      <td>False</td>\n",
              "      <td>True</td>\n",
              "      <td>True</td>\n",
              "      <td>True</td>\n",
              "      <td>False</td>\n",
              "      <td>False</td>\n",
              "      <td>False</td>\n",
              "      <td>False</td>\n",
              "      <td>False</td>\n",
              "      <td>False</td>\n",
              "    </tr>\n",
              "    <tr>\n",
              "      <th>...</th>\n",
              "      <td>...</td>\n",
              "      <td>...</td>\n",
              "      <td>...</td>\n",
              "      <td>...</td>\n",
              "      <td>...</td>\n",
              "      <td>...</td>\n",
              "      <td>...</td>\n",
              "      <td>...</td>\n",
              "      <td>...</td>\n",
              "      <td>...</td>\n",
              "      <td>...</td>\n",
              "      <td>...</td>\n",
              "      <td>...</td>\n",
              "      <td>...</td>\n",
              "      <td>...</td>\n",
              "    </tr>\n",
              "    <tr>\n",
              "      <th>67025</th>\n",
              "      <td>False</td>\n",
              "      <td>False</td>\n",
              "      <td>False</td>\n",
              "      <td>True</td>\n",
              "      <td>False</td>\n",
              "      <td>False</td>\n",
              "      <td>False</td>\n",
              "      <td>True</td>\n",
              "      <td>True</td>\n",
              "      <td>False</td>\n",
              "      <td>False</td>\n",
              "      <td>False</td>\n",
              "      <td>False</td>\n",
              "      <td>False</td>\n",
              "      <td>False</td>\n",
              "    </tr>\n",
              "    <tr>\n",
              "      <th>67026</th>\n",
              "      <td>False</td>\n",
              "      <td>False</td>\n",
              "      <td>False</td>\n",
              "      <td>True</td>\n",
              "      <td>False</td>\n",
              "      <td>False</td>\n",
              "      <td>False</td>\n",
              "      <td>True</td>\n",
              "      <td>True</td>\n",
              "      <td>False</td>\n",
              "      <td>False</td>\n",
              "      <td>False</td>\n",
              "      <td>False</td>\n",
              "      <td>False</td>\n",
              "      <td>False</td>\n",
              "    </tr>\n",
              "    <tr>\n",
              "      <th>67027</th>\n",
              "      <td>False</td>\n",
              "      <td>False</td>\n",
              "      <td>False</td>\n",
              "      <td>True</td>\n",
              "      <td>False</td>\n",
              "      <td>False</td>\n",
              "      <td>False</td>\n",
              "      <td>True</td>\n",
              "      <td>True</td>\n",
              "      <td>False</td>\n",
              "      <td>False</td>\n",
              "      <td>False</td>\n",
              "      <td>False</td>\n",
              "      <td>False</td>\n",
              "      <td>False</td>\n",
              "    </tr>\n",
              "    <tr>\n",
              "      <th>67028</th>\n",
              "      <td>False</td>\n",
              "      <td>False</td>\n",
              "      <td>False</td>\n",
              "      <td>True</td>\n",
              "      <td>False</td>\n",
              "      <td>False</td>\n",
              "      <td>False</td>\n",
              "      <td>True</td>\n",
              "      <td>True</td>\n",
              "      <td>False</td>\n",
              "      <td>False</td>\n",
              "      <td>False</td>\n",
              "      <td>False</td>\n",
              "      <td>False</td>\n",
              "      <td>False</td>\n",
              "    </tr>\n",
              "    <tr>\n",
              "      <th>67029</th>\n",
              "      <td>False</td>\n",
              "      <td>False</td>\n",
              "      <td>False</td>\n",
              "      <td>True</td>\n",
              "      <td>True</td>\n",
              "      <td>True</td>\n",
              "      <td>True</td>\n",
              "      <td>True</td>\n",
              "      <td>True</td>\n",
              "      <td>True</td>\n",
              "      <td>True</td>\n",
              "      <td>True</td>\n",
              "      <td>True</td>\n",
              "      <td>True</td>\n",
              "      <td>True</td>\n",
              "    </tr>\n",
              "  </tbody>\n",
              "</table>\n",
              "<p>67030 rows × 15 columns</p>\n",
              "</div>\n",
              "      <button class=\"colab-df-convert\" onclick=\"convertToInteractive('df-33fc516e-83ee-4846-9f5f-8d6a8a9111d0')\"\n",
              "              title=\"Convert this dataframe to an interactive table.\"\n",
              "              style=\"display:none;\">\n",
              "        \n",
              "  <svg xmlns=\"http://www.w3.org/2000/svg\" height=\"24px\"viewBox=\"0 0 24 24\"\n",
              "       width=\"24px\">\n",
              "    <path d=\"M0 0h24v24H0V0z\" fill=\"none\"/>\n",
              "    <path d=\"M18.56 5.44l.94 2.06.94-2.06 2.06-.94-2.06-.94-.94-2.06-.94 2.06-2.06.94zm-11 1L8.5 8.5l.94-2.06 2.06-.94-2.06-.94L8.5 2.5l-.94 2.06-2.06.94zm10 10l.94 2.06.94-2.06 2.06-.94-2.06-.94-.94-2.06-.94 2.06-2.06.94z\"/><path d=\"M17.41 7.96l-1.37-1.37c-.4-.4-.92-.59-1.43-.59-.52 0-1.04.2-1.43.59L10.3 9.45l-7.72 7.72c-.78.78-.78 2.05 0 2.83L4 21.41c.39.39.9.59 1.41.59.51 0 1.02-.2 1.41-.59l7.78-7.78 2.81-2.81c.8-.78.8-2.07 0-2.86zM5.41 20L4 18.59l7.72-7.72 1.47 1.35L5.41 20z\"/>\n",
              "  </svg>\n",
              "      </button>\n",
              "      \n",
              "  <style>\n",
              "    .colab-df-container {\n",
              "      display:flex;\n",
              "      flex-wrap:wrap;\n",
              "      gap: 12px;\n",
              "    }\n",
              "\n",
              "    .colab-df-convert {\n",
              "      background-color: #E8F0FE;\n",
              "      border: none;\n",
              "      border-radius: 50%;\n",
              "      cursor: pointer;\n",
              "      display: none;\n",
              "      fill: #1967D2;\n",
              "      height: 32px;\n",
              "      padding: 0 0 0 0;\n",
              "      width: 32px;\n",
              "    }\n",
              "\n",
              "    .colab-df-convert:hover {\n",
              "      background-color: #E2EBFA;\n",
              "      box-shadow: 0px 1px 2px rgba(60, 64, 67, 0.3), 0px 1px 3px 1px rgba(60, 64, 67, 0.15);\n",
              "      fill: #174EA6;\n",
              "    }\n",
              "\n",
              "    [theme=dark] .colab-df-convert {\n",
              "      background-color: #3B4455;\n",
              "      fill: #D2E3FC;\n",
              "    }\n",
              "\n",
              "    [theme=dark] .colab-df-convert:hover {\n",
              "      background-color: #434B5C;\n",
              "      box-shadow: 0px 1px 3px 1px rgba(0, 0, 0, 0.15);\n",
              "      filter: drop-shadow(0px 1px 2px rgba(0, 0, 0, 0.3));\n",
              "      fill: #FFFFFF;\n",
              "    }\n",
              "  </style>\n",
              "\n",
              "      <script>\n",
              "        const buttonEl =\n",
              "          document.querySelector('#df-33fc516e-83ee-4846-9f5f-8d6a8a9111d0 button.colab-df-convert');\n",
              "        buttonEl.style.display =\n",
              "          google.colab.kernel.accessAllowed ? 'block' : 'none';\n",
              "\n",
              "        async function convertToInteractive(key) {\n",
              "          const element = document.querySelector('#df-33fc516e-83ee-4846-9f5f-8d6a8a9111d0');\n",
              "          const dataTable =\n",
              "            await google.colab.kernel.invokeFunction('convertToInteractive',\n",
              "                                                     [key], {});\n",
              "          if (!dataTable) return;\n",
              "\n",
              "          const docLinkHtml = 'Like what you see? Visit the ' +\n",
              "            '<a target=\"_blank\" href=https://colab.research.google.com/notebooks/data_table.ipynb>data table notebook</a>'\n",
              "            + ' to learn more about interactive tables.';\n",
              "          element.innerHTML = '';\n",
              "          dataTable['output_type'] = 'display_data';\n",
              "          await google.colab.output.renderOutput(dataTable, element);\n",
              "          const docLink = document.createElement('div');\n",
              "          docLink.innerHTML = docLinkHtml;\n",
              "          element.appendChild(docLink);\n",
              "        }\n",
              "      </script>\n",
              "    </div>\n",
              "  </div>\n",
              "  "
            ]
          },
          "metadata": {},
          "execution_count": 6
        }
      ]
    },
    {
      "cell_type": "code",
      "source": [
        "data.shape"
      ],
      "metadata": {
        "colab": {
          "base_uri": "https://localhost:8080/"
        },
        "id": "7a2F7q4sT3Eu",
        "outputId": "1148d659-352f-4a07-d5d4-d517725e14e1"
      },
      "execution_count": null,
      "outputs": [
        {
          "output_type": "execute_result",
          "data": {
            "text/plain": [
              "(392892, 9)"
            ]
          },
          "metadata": {},
          "execution_count": 86
        }
      ]
    },
    {
      "cell_type": "code",
      "source": [
        "392892*9"
      ],
      "metadata": {
        "colab": {
          "base_uri": "https://localhost:8080/"
        },
        "id": "751WlrYvT_TC",
        "outputId": "5623a294-2db1-4add-d781-5c14bac238e7"
      },
      "execution_count": null,
      "outputs": [
        {
          "output_type": "execute_result",
          "data": {
            "text/plain": [
              "3536028"
            ]
          },
          "metadata": {},
          "execution_count": 87
        }
      ]
    },
    {
      "cell_type": "code",
      "source": [
        "df2 = data.filter(items = [\"bounces\", \"timeOnSite\"])\n",
        "df2\n",
        "df2.fillna(1, inplace = True)  \n",
        "df2                \n",
        "\n"
      ],
      "metadata": {
        "colab": {
          "base_uri": "https://localhost:8080/",
          "height": 424
        },
        "id": "TKcIIQOXV6u7",
        "outputId": "819b5173-c00b-489a-8034-932752bc9c00"
      },
      "execution_count": 17,
      "outputs": [
        {
          "output_type": "execute_result",
          "data": {
            "text/plain": [
              "        bounces  timeOnSite\n",
              "0           1.0         1.0\n",
              "1           1.0         1.0\n",
              "2           1.0         1.0\n",
              "3           1.0         1.0\n",
              "4           1.0         1.0\n",
              "...         ...         ...\n",
              "392887      1.0       210.0\n",
              "392888      1.0       306.0\n",
              "392889      1.0       202.0\n",
              "392890      1.0       621.0\n",
              "392891      1.0      4195.0\n",
              "\n",
              "[392892 rows x 2 columns]"
            ],
            "text/html": [
              "\n",
              "  <div id=\"df-71f3a719-8c7e-4b84-9f7c-6ce8a9cf9dbb\">\n",
              "    <div class=\"colab-df-container\">\n",
              "      <div>\n",
              "<style scoped>\n",
              "    .dataframe tbody tr th:only-of-type {\n",
              "        vertical-align: middle;\n",
              "    }\n",
              "\n",
              "    .dataframe tbody tr th {\n",
              "        vertical-align: top;\n",
              "    }\n",
              "\n",
              "    .dataframe thead th {\n",
              "        text-align: right;\n",
              "    }\n",
              "</style>\n",
              "<table border=\"1\" class=\"dataframe\">\n",
              "  <thead>\n",
              "    <tr style=\"text-align: right;\">\n",
              "      <th></th>\n",
              "      <th>bounces</th>\n",
              "      <th>timeOnSite</th>\n",
              "    </tr>\n",
              "  </thead>\n",
              "  <tbody>\n",
              "    <tr>\n",
              "      <th>0</th>\n",
              "      <td>1.0</td>\n",
              "      <td>1.0</td>\n",
              "    </tr>\n",
              "    <tr>\n",
              "      <th>1</th>\n",
              "      <td>1.0</td>\n",
              "      <td>1.0</td>\n",
              "    </tr>\n",
              "    <tr>\n",
              "      <th>2</th>\n",
              "      <td>1.0</td>\n",
              "      <td>1.0</td>\n",
              "    </tr>\n",
              "    <tr>\n",
              "      <th>3</th>\n",
              "      <td>1.0</td>\n",
              "      <td>1.0</td>\n",
              "    </tr>\n",
              "    <tr>\n",
              "      <th>4</th>\n",
              "      <td>1.0</td>\n",
              "      <td>1.0</td>\n",
              "    </tr>\n",
              "    <tr>\n",
              "      <th>...</th>\n",
              "      <td>...</td>\n",
              "      <td>...</td>\n",
              "    </tr>\n",
              "    <tr>\n",
              "      <th>392887</th>\n",
              "      <td>1.0</td>\n",
              "      <td>210.0</td>\n",
              "    </tr>\n",
              "    <tr>\n",
              "      <th>392888</th>\n",
              "      <td>1.0</td>\n",
              "      <td>306.0</td>\n",
              "    </tr>\n",
              "    <tr>\n",
              "      <th>392889</th>\n",
              "      <td>1.0</td>\n",
              "      <td>202.0</td>\n",
              "    </tr>\n",
              "    <tr>\n",
              "      <th>392890</th>\n",
              "      <td>1.0</td>\n",
              "      <td>621.0</td>\n",
              "    </tr>\n",
              "    <tr>\n",
              "      <th>392891</th>\n",
              "      <td>1.0</td>\n",
              "      <td>4195.0</td>\n",
              "    </tr>\n",
              "  </tbody>\n",
              "</table>\n",
              "<p>392892 rows × 2 columns</p>\n",
              "</div>\n",
              "      <button class=\"colab-df-convert\" onclick=\"convertToInteractive('df-71f3a719-8c7e-4b84-9f7c-6ce8a9cf9dbb')\"\n",
              "              title=\"Convert this dataframe to an interactive table.\"\n",
              "              style=\"display:none;\">\n",
              "        \n",
              "  <svg xmlns=\"http://www.w3.org/2000/svg\" height=\"24px\"viewBox=\"0 0 24 24\"\n",
              "       width=\"24px\">\n",
              "    <path d=\"M0 0h24v24H0V0z\" fill=\"none\"/>\n",
              "    <path d=\"M18.56 5.44l.94 2.06.94-2.06 2.06-.94-2.06-.94-.94-2.06-.94 2.06-2.06.94zm-11 1L8.5 8.5l.94-2.06 2.06-.94-2.06-.94L8.5 2.5l-.94 2.06-2.06.94zm10 10l.94 2.06.94-2.06 2.06-.94-2.06-.94-.94-2.06-.94 2.06-2.06.94z\"/><path d=\"M17.41 7.96l-1.37-1.37c-.4-.4-.92-.59-1.43-.59-.52 0-1.04.2-1.43.59L10.3 9.45l-7.72 7.72c-.78.78-.78 2.05 0 2.83L4 21.41c.39.39.9.59 1.41.59.51 0 1.02-.2 1.41-.59l7.78-7.78 2.81-2.81c.8-.78.8-2.07 0-2.86zM5.41 20L4 18.59l7.72-7.72 1.47 1.35L5.41 20z\"/>\n",
              "  </svg>\n",
              "      </button>\n",
              "      \n",
              "  <style>\n",
              "    .colab-df-container {\n",
              "      display:flex;\n",
              "      flex-wrap:wrap;\n",
              "      gap: 12px;\n",
              "    }\n",
              "\n",
              "    .colab-df-convert {\n",
              "      background-color: #E8F0FE;\n",
              "      border: none;\n",
              "      border-radius: 50%;\n",
              "      cursor: pointer;\n",
              "      display: none;\n",
              "      fill: #1967D2;\n",
              "      height: 32px;\n",
              "      padding: 0 0 0 0;\n",
              "      width: 32px;\n",
              "    }\n",
              "\n",
              "    .colab-df-convert:hover {\n",
              "      background-color: #E2EBFA;\n",
              "      box-shadow: 0px 1px 2px rgba(60, 64, 67, 0.3), 0px 1px 3px 1px rgba(60, 64, 67, 0.15);\n",
              "      fill: #174EA6;\n",
              "    }\n",
              "\n",
              "    [theme=dark] .colab-df-convert {\n",
              "      background-color: #3B4455;\n",
              "      fill: #D2E3FC;\n",
              "    }\n",
              "\n",
              "    [theme=dark] .colab-df-convert:hover {\n",
              "      background-color: #434B5C;\n",
              "      box-shadow: 0px 1px 3px 1px rgba(0, 0, 0, 0.15);\n",
              "      filter: drop-shadow(0px 1px 2px rgba(0, 0, 0, 0.3));\n",
              "      fill: #FFFFFF;\n",
              "    }\n",
              "  </style>\n",
              "\n",
              "      <script>\n",
              "        const buttonEl =\n",
              "          document.querySelector('#df-71f3a719-8c7e-4b84-9f7c-6ce8a9cf9dbb button.colab-df-convert');\n",
              "        buttonEl.style.display =\n",
              "          google.colab.kernel.accessAllowed ? 'block' : 'none';\n",
              "\n",
              "        async function convertToInteractive(key) {\n",
              "          const element = document.querySelector('#df-71f3a719-8c7e-4b84-9f7c-6ce8a9cf9dbb');\n",
              "          const dataTable =\n",
              "            await google.colab.kernel.invokeFunction('convertToInteractive',\n",
              "                                                     [key], {});\n",
              "          if (!dataTable) return;\n",
              "\n",
              "          const docLinkHtml = 'Like what you see? Visit the ' +\n",
              "            '<a target=\"_blank\" href=https://colab.research.google.com/notebooks/data_table.ipynb>data table notebook</a>'\n",
              "            + ' to learn more about interactive tables.';\n",
              "          element.innerHTML = '';\n",
              "          dataTable['output_type'] = 'display_data';\n",
              "          await google.colab.output.renderOutput(dataTable, element);\n",
              "          const docLink = document.createElement('div');\n",
              "          docLink.innerHTML = docLinkHtml;\n",
              "          element.appendChild(docLink);\n",
              "        }\n",
              "      </script>\n",
              "    </div>\n",
              "  </div>\n",
              "  "
            ]
          },
          "metadata": {},
          "execution_count": 17
        }
      ]
    },
    {
      "cell_type": "code",
      "source": [
        "datos = df2.bounces * df2.timeOnSite\n",
        "datos"
      ],
      "metadata": {
        "colab": {
          "base_uri": "https://localhost:8080/"
        },
        "id": "lgfA-XuLvFUU",
        "outputId": "7992f609-a552-4f4d-c6cd-793319aae00c"
      },
      "execution_count": 19,
      "outputs": [
        {
          "output_type": "execute_result",
          "data": {
            "text/plain": [
              "0            1.0\n",
              "1            1.0\n",
              "2            1.0\n",
              "3            1.0\n",
              "4            1.0\n",
              "           ...  \n",
              "392887     210.0\n",
              "392888     306.0\n",
              "392889     202.0\n",
              "392890     621.0\n",
              "392891    4195.0\n",
              "Length: 392892, dtype: float64"
            ]
          },
          "metadata": {},
          "execution_count": 19
        }
      ]
    },
    {
      "cell_type": "code",
      "source": [
        "data[\"timmpo total\"] = datos\n",
        "data.head"
      ],
      "metadata": {
        "colab": {
          "base_uri": "https://localhost:8080/"
        },
        "id": "G_5_-1r3vmZZ",
        "outputId": "3ef64249-c0fa-4394-c94d-774ed9a43533"
      },
      "execution_count": 20,
      "outputs": [
        {
          "output_type": "execute_result",
          "data": {
            "text/plain": [
              "<bound method NDFrame.head of               fullVisitorID  visitNumber      date  bounces  hits  pageviews  \\\n",
              "0       8533875475515924645            1  20170205      1.0     1        1.0   \n",
              "1       4874599869430831185            2  20170205      1.0     1        1.0   \n",
              "2        361954421372951638            1  20170205      1.0     1        1.0   \n",
              "3       8751850432978942600            2  20170205      1.0     1        1.0   \n",
              "4       2451058030378352110            1  20170205      1.0     1        1.0   \n",
              "...                     ...          ...       ...      ...   ...        ...   \n",
              "392887  4823772839168317708            1  20170314      NaN    14       10.0   \n",
              "392888  4495028198726387872            1  20170314      NaN    15       13.0   \n",
              "392889   659863211325608630            1  20170314      NaN    16       16.0   \n",
              "392890  5989424100079269693            1  20170314      NaN    20       18.0   \n",
              "392891  9349161317881541522            4  20170314      NaN   205      179.0   \n",
              "\n",
              "        timeOnSite  transactionRevenue  transactions          source  \\\n",
              "0              NaN                 NaN           NaN        (direct)   \n",
              "1              NaN                 NaN           NaN        (direct)   \n",
              "2              NaN                 NaN           NaN        (direct)   \n",
              "3              NaN                 NaN           NaN            bing   \n",
              "4              NaN                 NaN           NaN        (direct)   \n",
              "...            ...                 ...           ...             ...   \n",
              "392887       210.0                 NaN           NaN     youtube.com   \n",
              "392888       306.0                 NaN           NaN  m.facebook.com   \n",
              "392889       202.0                 NaN           NaN     youtube.com   \n",
              "392890       621.0                 NaN           NaN     youtube.com   \n",
              "392891      4195.0              901.71           8.0  l.facebook.com   \n",
              "\n",
              "       channelGrouping          browser deviceCategory        country  \\\n",
              "0       Organic Search           Chrome        desktop      Australia   \n",
              "1       Organic Search           Chrome         mobile         Turkey   \n",
              "2       Organic Search           Chrome        desktop         Russia   \n",
              "3       Organic Search             Edge        desktop  United States   \n",
              "4       Organic Search           Chrome        desktop      Indonesia   \n",
              "...                ...              ...            ...            ...   \n",
              "392887          Social           Chrome        desktop      Australia   \n",
              "392888          Social  Android Webview         mobile  United States   \n",
              "392889          Social           Chrome        desktop       Colombia   \n",
              "392890          Social           Chrome        desktop         Israel   \n",
              "392891          Social          Firefox        desktop      Indonesia   \n",
              "\n",
              "                                 city  timmpo total  \n",
              "0                              Sydney           1.0  \n",
              "1                            Istanbul           1.0  \n",
              "2                              Moscow           1.0  \n",
              "3       not available in demo dataset           1.0  \n",
              "4       not available in demo dataset           1.0  \n",
              "...                               ...           ...  \n",
              "392887                         Sydney         210.0  \n",
              "392888  not available in demo dataset         306.0  \n",
              "392889  not available in demo dataset         202.0  \n",
              "392890                  Tel Aviv-Yafo         621.0  \n",
              "392891  not available in demo dataset        4195.0  \n",
              "\n",
              "[392892 rows x 16 columns]>"
            ]
          },
          "metadata": {},
          "execution_count": 20
        }
      ]
    }
  ]
}